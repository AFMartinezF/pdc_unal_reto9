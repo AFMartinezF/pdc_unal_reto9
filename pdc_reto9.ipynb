{
  "nbformat": 4,
  "nbformat_minor": 0,
  "metadata": {
    "colab": {
      "provenance": []
    },
    "kernelspec": {
      "name": "python3",
      "display_name": "Python 3"
    },
    "language_info": {
      "name": "python"
    }
  },
  "cells": [
    {
      "cell_type": "markdown",
      "source": [
        "1. Desarrollar un algoritmo que calcule el promedio de un arreglo de reales.\n",
        "\n",
        "\n",
        "\n",
        "\n"
      ],
      "metadata": {
        "id": "gIbd6XOKx3IY"
      }
    },
    {
      "cell_type": "code",
      "source": [
        "# Solicitamos la entrada del arreglo\n",
        "entrada = input(\"Ingrese un arreglo de números separados por espacios: \")\n",
        "\n",
        "# Convertimos la entrada en una lista de números flotantes\n",
        "arreglo = [float(num) for num in entrada.split()]\n",
        "\n",
        "# Inicializamos la variable para la suma\n",
        "suma = 0\n",
        "\n",
        "# Calculamos la suma de los elementos\n",
        "for i in arreglo:\n",
        "  suma += i\n",
        "\n",
        "# Calculamos el promedio\n",
        "promedio = suma / len(arreglo)\n",
        "\n",
        "# Mostramos el promedio\n",
        "print(f\"El promedio del arreglo es: {promedio}\")\n"
      ],
      "metadata": {
        "colab": {
          "base_uri": "https://localhost:8080/"
        },
        "id": "l9i7kTCh_6ki",
        "outputId": "37fdb551-f22f-45dc-8783-2af9b0100a6d"
      },
      "execution_count": 1,
      "outputs": [
        {
          "output_type": "stream",
          "name": "stdout",
          "text": [
            "Ingrese un arreglo de números separados por espacios: 5 5 5 7 7 7\n",
            "El promedio del arreglo es: 6.0\n"
          ]
        }
      ]
    },
    {
      "cell_type": "markdown",
      "source": [
        "2. Desarrollar un algoritmo que calcule el [producto punto](https://www.cuemath.com/algebra/dot-product/) de dos arreglos de números enteros (reales) de igual tamaño."
      ],
      "metadata": {
        "id": "Vry0Dr-CBnnS"
      }
    },
    {
      "cell_type": "code",
      "source": [
        "# Solicitamos la entrada del primer vector\n",
        "entrada = input(\"Ingrese el primer vector con las componentes separadas por espacios: \")\n",
        "u = [float(num) for num in entrada.split()]\n",
        "\n",
        "# Solicitamos la entrada del segundo vector\n",
        "entrada = input(\"Ingrese el segundo vector con las componentes separadas por espacios: \")\n",
        "v = [float(num) for num in entrada.split()]\n",
        "\n",
        "# Verificamos si los vectores tienen la misma longitud\n",
        "if len(u) != len(v):\n",
        "  print(\"Los vectores no tienen la misma longitud\")\n",
        "\n",
        "# Calculamos el producto punto de los vectores\n",
        "dot = 0\n",
        "for i in range(len(u)):\n",
        "  dot += u[i]*v[i]\n",
        "\n",
        "# Mostramos el resultado del producto punto\n",
        "print(f\"El producto punto de los vectores es: {dot}\")\n"
      ],
      "metadata": {
        "colab": {
          "base_uri": "https://localhost:8080/"
        },
        "id": "c6mR17_wBwXw",
        "outputId": "a8ca2291-e516-4696-eb0e-0add9aece354"
      },
      "execution_count": 2,
      "outputs": [
        {
          "output_type": "stream",
          "name": "stdout",
          "text": [
            "Ingrese el primer vector con las componentes separadas por espacios: 1 2 3\n",
            "Ingrese el segundo vector con las componentes separadas por espacios: 1 1 1\n",
            "El producto punto de los vectores es: 6.0\n"
          ]
        }
      ]
    },
    {
      "cell_type": "markdown",
      "source": [
        "3. Hacer un algoritmo que deje al final de un arreglo de números todos los ceros que aparezcan en dicho arreglo."
      ],
      "metadata": {
        "id": "ifeQXWE-C5io"
      }
    },
    {
      "cell_type": "code",
      "source": [
        "# Solicitamos la entrada del arreglo\n",
        "entrada = input(\"Ingrese un arreglo de números separados por espacios: \")\n",
        "arreglo = [float(num) for num in entrada.split()]\n",
        "\n",
        "# Inicializamos el contador de ceros\n",
        "ceros = 0\n",
        "\n",
        "# Contamos los ceros en el arreglo\n",
        "for i in range(len(arreglo)):\n",
        "  if arreglo[i] == 0:\n",
        "    ceros += 1\n",
        "\n",
        "# Mostramos la cantidad de ceros en el arreglo\n",
        "print(f\"La cantidad de ceros en el arreglo es: {ceros}\")\n"
      ],
      "metadata": {
        "colab": {
          "base_uri": "https://localhost:8080/"
        },
        "id": "eSuzcDHEDCzi",
        "outputId": "90912ed6-0c5e-488e-a018-c567522ede79"
      },
      "execution_count": 3,
      "outputs": [
        {
          "output_type": "stream",
          "name": "stdout",
          "text": [
            "Ingrese un arreglo de números separados por espacios: 2 5 8 0 1 45 5 20\n",
            "La cantidad de ceros en el arreglo es: 1\n"
          ]
        }
      ]
    },
    {
      "cell_type": "markdown",
      "source": [
        "4. Revisar que son los algoritmos de *sorting*, entender *bubble-sort* ([enlace](https://www.geeksforgeeks.org/bubble-sort/) a implementación)."
      ],
      "metadata": {
        "id": "rQDm8UYuD5pa"
      }
    },
    {
      "cell_type": "code",
      "source": [
        "#Optimización en Python del algoritmo de ordenamiento\n",
        "def bubbleSort(arr):\n",
        "    n = len(arr)\n",
        "\n",
        "    # Primer recorrido por todo el array\n",
        "    for i in range(n):\n",
        "        swapped = False\n",
        "\n",
        "        # Bucle que recorre hasta los número que no han sido ordenados\n",
        "        for j in range(0, n-i-1):\n",
        "\n",
        "            # Si el siguiente elemento es menor que el actual los intercambiamos  continuamos\n",
        "            if arr[j] > arr[j+1]:\n",
        "                arr[j], arr[j+1] = arr[j+1], arr[j]\n",
        "                swapped = True\n",
        "        #Cuando no hayan elementos por intercambiar el array estará ordenado\n",
        "        if (swapped == False):\n",
        "            break\n",
        "\n",
        "# Código para testear el algoritmob de bubble sort (ordenamiento burbuja)\n",
        "if __name__ == \"__main__\":\n",
        "    #Solicitamos el ingreso del array\n",
        "    entrada = input(\"Ingrese un arreglo de números separados por espacios: \")\n",
        "    arr = [float(num) for num in entrada.split()]\n",
        "\n",
        "    #Ejecutamos la función con la implementación del algoritmo\n",
        "    bubbleSort(arr)\n",
        "\n",
        "    print(\"Array ordenado:\")\n",
        "    for i in range(len(arr)):\n",
        "        print(\"%d\" % arr[i], end=\" \")"
      ],
      "metadata": {
        "colab": {
          "base_uri": "https://localhost:8080/"
        },
        "id": "NneX68k9D9LS",
        "outputId": "64855c00-10bc-41a4-d1ee-773e84e18ff3"
      },
      "execution_count": 4,
      "outputs": [
        {
          "output_type": "stream",
          "name": "stdout",
          "text": [
            "Ingrese un arreglo de números separados por espacios: 5 8 9 7 1 6 3 4 52 14 5 7 0\n",
            "Array ordenado:\n",
            "0 1 3 4 5 5 6 7 7 8 9 14 52 "
          ]
        }
      ]
    }
  ]
}